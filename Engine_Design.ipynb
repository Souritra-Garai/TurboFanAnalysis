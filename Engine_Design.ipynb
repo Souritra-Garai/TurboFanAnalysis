{
 "cells": [
  {
   "cell_type": "code",
   "execution_count": 1,
   "metadata": {},
   "outputs": [],
   "source": [
    "#@title Importing Modules\n",
    "import ipywidgets as widgets\n",
    "\n",
    "from Turbofan_Engine import TurboFanEngine\n",
    "\n",
    "import GUI"
   ]
  },
  {
   "cell_type": "code",
   "execution_count": 2,
   "metadata": {},
   "outputs": [
    {
     "data": {
      "application/vnd.jupyter.widget-view+json": {
       "model_id": "57557a728597485bb9c848da14508aa2",
       "version_major": 2,
       "version_minor": 0
      },
      "text/plain": [
       "GridspecLayout(children=(Label(value='Flight Mach Number', layout=Layout(grid_area='widget001')), FloatText(va…"
      ]
     },
     "metadata": {},
     "output_type": "display_data"
    }
   ],
   "source": [
    "#@title Flight Conditions\n",
    "display(GUI.flight_conditions_grid)"
   ]
  },
  {
   "cell_type": "code",
   "execution_count": 3,
   "metadata": {},
   "outputs": [
    {
     "data": {
      "application/vnd.jupyter.widget-view+json": {
       "model_id": "778a25e6a5cc48efa07bf84f85ca0634",
       "version_major": 2,
       "version_minor": 0
      },
      "text/plain": [
       "GridspecLayout(children=(Label(value='Bypass Ratio', layout=Layout(grid_area='widget001')), FloatSlider(value=…"
      ]
     },
     "metadata": {},
     "output_type": "display_data"
    }
   ],
   "source": [
    "#@title Engine Design Choices\n",
    "display(GUI.engine_design_grid)"
   ]
  },
  {
   "cell_type": "code",
   "execution_count": 10,
   "metadata": {},
   "outputs": [
    {
     "data": {
      "application/vnd.jupyter.widget-view+json": {
       "model_id": "f87731b0c1f344feb2faab1739e97440",
       "version_major": 2,
       "version_minor": 0
      },
      "text/plain": [
       "GridspecLayout(children=(Label(value='Level of Technology', layout=Layout(grid_area='widget001')), Dropdown(in…"
      ]
     },
     "metadata": {},
     "output_type": "display_data"
    }
   ],
   "source": [
    "#title Engine Component Performance and Design Limits\n",
    "tech_level_dropdown = widgets.Dropdown(\n",
    "\toptions = [\n",
    "\t\t('1945 - 1965', 0),\n",
    "\t\t('1965 - 1985', 1),\n",
    "\t\t('1985 - 2005', 2),\n",
    "\t\t('2005 - 2025', 3),\n",
    "\t\t('2025 - 2045', 4)\n",
    "\t],\n",
    "\tvalue \t= 3\n",
    ")\n",
    "\n",
    "diffuser_pressure_ratio_tbox = widgets.FloatText(\n",
    "\tvalue\t= 0.995,\n",
    "\tmin\t\t= 0.0,\n",
    "\tmax\t\t= 1.0,\n",
    "\tstep\t= 0.001,\n",
    "\treadout_format = '.3f'\n",
    ")\n",
    "\n",
    "compressor_efficiency_tbox = widgets.FloatText(\n",
    "\tvalue\t= 0.9,\n",
    "\tmin\t\t= 0.0,\n",
    "\tmax\t\t= 1.0,\n",
    "\tstep\t= 0.001,\n",
    "\treadout_format = '.3f'\n",
    ")\n",
    "\n",
    "fan_efficiency_tbox = widgets.FloatText(\n",
    "\tvalue\t= 0.89,\n",
    "\tmin\t\t= 0.0,\n",
    "\tmax\t\t= 1.0,\n",
    "\tstep\t= 0.001,\n",
    "\treadout_format = '.3f'\n",
    ")\n",
    "\n",
    "burner_pressure_ratio_tbox = widgets.FloatText(\n",
    "\tvalue\t= 0.95,\n",
    "\tmin\t\t= 0.0,\n",
    "\tmax\t\t= 1.0,\n",
    "\tstep\t= 0.001,\n",
    "\treadout_format = '.3f'\n",
    ")\n",
    "\n",
    "burner_efficiency_tbox = widgets.FloatText(\n",
    "\tvalue\t= 0.999,\n",
    "\tmin\t\t= 0.0,\n",
    "\tmax\t\t= 1.0,\n",
    "\tstep\t= 0.001,\n",
    "\treadout_format = '.3f'\n",
    ")\n",
    "\n",
    "turbine_efficiency_tbox = widgets.FloatText(\n",
    "\tvalue\t= 0.90,\n",
    "\tmin\t\t= 0.0,\n",
    "\tmax\t\t= 1.0,\n",
    "\tstep\t= 0.001,\n",
    "\treadout_format = '.3f'\n",
    ")\n",
    "\n",
    "mechanical_shaft_efficiency_tbox = widgets.FloatText(\n",
    "\tvalue\t= 0.97,\n",
    "\tmin\t\t= 0.0,\n",
    "\tmax\t\t= 1.0,\n",
    "\tstep\t= 0.001,\n",
    "\treadout_format = '.3f'\n",
    ")\n",
    "\n",
    "nozzle_pressure_ratio_tbox = widgets.FloatText(\n",
    "\tvalue\t= 0.995,\n",
    "\tmin\t\t= 0.0,\n",
    "\tmax\t\t= 1.0,\n",
    "\tstep\t= 0.001,\n",
    "\treadout_format = '.3f'\n",
    ")\n",
    "\n",
    "turbine_temperature_tbox = widgets.FloatText(\n",
    "\tvalue\t= 2000,\n",
    "\tmin\t\t=  800,\n",
    "\tmax\t\t= 3000,\n",
    "\tstep\t=   10,\n",
    "\treadout_format = '.1f'\n",
    ")\n",
    "\n",
    "component_performance_grid_box = widgets.GridspecLayout(10, 4)\n",
    "\n",
    "component_performance_grid_box[0, 0] = widgets.Label('Level of Technology', layout={'text-alignment':'right'})\n",
    "component_performance_grid_box[0, 1] = tech_level_dropdown\n",
    "\n",
    "component_performance_grid_box[1, 1] = widgets.Label('--or--')\n",
    "\n",
    "component_performance_grid_box[2, 0] = widgets.Label('Design Limit')\n",
    "\n",
    "component_performance_grid_box[3, 0] = widgets.Label('Turbine Inlet Total Temperature')\n",
    "component_performance_grid_box[3, 1] = turbine_temperature_tbox\n",
    "component_performance_grid_box[3, 2] = widgets.Label('kelvin')\n",
    "\n",
    "component_performance_grid_box[4, 0] = widgets.Label('Component Efficiencies')\n",
    "\n",
    "component_performance_grid_box[5, 0] = widgets.Label('Maximum Diffuser Pressure Drop')\n",
    "\n",
    "component_performance_grid_box[6, 0] = widgets.Label('Compressor Polytropic Efficiency')\n",
    "component_performance_grid_box[6, 1] = compressor_efficiency_tbox\n",
    "component_performance_grid_box[6, 2] = widgets.Label('Fan Polytropic Efficiency')\n",
    "component_performance_grid_box[6, 3] = fan_efficiency_tbox\n",
    "\n",
    "component_performance_grid_box[7, 0] = widgets.Label('Burner Pressure Drop')\n",
    "component_performance_grid_box[7, 1] = burner_pressure_ratio_tbox\n",
    "component_performance_grid_box[7, 2] = widgets.Label('Burner Efficiency')\n",
    "component_performance_grid_box[7, 3] = burner_efficiency_tbox\n",
    "\n",
    "component_performance_grid_box[8, 0] = widgets.Label('Nozzle Pressure Drop')\n",
    "component_performance_grid_box[8, 1] = nozzle_pressure_ratio_tbox\n",
    "\n",
    "display(component_performance_grid_box)"
   ]
  },
  {
   "cell_type": "code",
   "execution_count": null,
   "metadata": {},
   "outputs": [],
   "source": []
  }
 ],
 "metadata": {
  "interpreter": {
   "hash": "7fc971179ebe20d9c4822d725e8918e729b8c35fccfc0bad9d0924110f07a302"
  },
  "kernelspec": {
   "display_name": "Python 3.9.9 64-bit",
   "language": "python",
   "name": "python3"
  },
  "language_info": {
   "codemirror_mode": {
    "name": "ipython",
    "version": 3
   },
   "file_extension": ".py",
   "mimetype": "text/x-python",
   "name": "python",
   "nbconvert_exporter": "python",
   "pygments_lexer": "ipython3",
   "version": "3.9.9"
  },
  "orig_nbformat": 4
 },
 "nbformat": 4,
 "nbformat_minor": 2
}
