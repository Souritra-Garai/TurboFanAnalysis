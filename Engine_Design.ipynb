{
 "cells": [
  {
   "cell_type": "code",
   "execution_count": 5,
   "metadata": {},
   "outputs": [],
   "source": [
    "#@title Importing Modules\n",
    "import ipywidgets as widgets\n",
    "\n",
    "from Turbofan_Engine import TurboFanEngine\n",
    "\n",
    "import GUI"
   ]
  },
  {
   "cell_type": "code",
   "execution_count": 6,
   "metadata": {},
   "outputs": [
    {
     "data": {
      "application/vnd.jupyter.widget-view+json": {
       "model_id": "adaa8dbe2ee247ea8886ae257d7cd8ca",
       "version_major": 2,
       "version_minor": 0
      },
      "text/plain": [
       "GridspecLayout(children=(Label(value='Flight Mach Number', layout=Layout(display='flex', grid_area='widget001'…"
      ]
     },
     "metadata": {},
     "output_type": "display_data"
    }
   ],
   "source": [
    "#@title Flight Conditions\n",
    "display(GUI.flight_conditions_grid)"
   ]
  },
  {
   "cell_type": "code",
   "execution_count": 7,
   "metadata": {},
   "outputs": [
    {
     "data": {
      "application/vnd.jupyter.widget-view+json": {
       "model_id": "8117a134b9264b45ab6c3541b1df832e",
       "version_major": 2,
       "version_minor": 0
      },
      "text/plain": [
       "GridspecLayout(children=(Label(value='Bypass Ratio', layout=Layout(display='flex', grid_area='widget001', just…"
      ]
     },
     "metadata": {},
     "output_type": "display_data"
    }
   ],
   "source": [
    "#@title Engine Design Choices\n",
    "display(GUI.engine_design_grid)"
   ]
  },
  {
   "cell_type": "code",
   "execution_count": 8,
   "metadata": {},
   "outputs": [
    {
     "data": {
      "application/vnd.jupyter.widget-view+json": {
       "model_id": "46a54f22bcb3400595f27290ea453c75",
       "version_major": 2,
       "version_minor": 0
      },
      "text/plain": [
       "GridspecLayout(children=(Label(value='Level of Technology', layout=Layout(display='flex', grid_area='widget001…"
      ]
     },
     "metadata": {},
     "output_type": "display_data"
    }
   ],
   "source": [
    "#title Engine Component Performance and Design Limits\n",
    "\n",
    "display(GUI.component_performance_grid_box)"
   ]
  },
  {
   "cell_type": "code",
   "execution_count": 10,
   "metadata": {},
   "outputs": [
    {
     "ename": "SyntaxError",
     "evalue": "invalid syntax (787063266.py, line 3)",
     "output_type": "error",
     "traceback": [
      "\u001b[1;36m  Input \u001b[1;32mIn [10]\u001b[1;36m\u001b[0m\n\u001b[1;33m    def setUpEngine :\u001b[0m\n\u001b[1;37m                    ^\u001b[0m\n\u001b[1;31mSyntaxError\u001b[0m\u001b[1;31m:\u001b[0m invalid syntax\n"
     ]
    }
   ],
   "source": [
    "engine = TurboFanEngine()\n",
    "\n",
    "def setUpEngine(engine : TurboFanEngine) :\n",
    "\n",
    "\tengine.setFuelProperties(42.7984E6, 1.33, 1155.5568)\n",
    "\tengine.setInletOutletProperties(0.99, 0.99, 0.99)\n",
    "\tengine.setBurnerProperties(0.96, 0.99)\n",
    "\tengine.setCompressorProperties(36, 0.9)\n",
    "\tengine.setFanProperties(1.7, 0.89)\n",
    "\tengine.setTurbineProperties(1666.67, 0.89, 0.99)\n",
    "\tengine.setBypassRatio(8)\n",
    "\t# engine.setExitPressureRatios(0.9, 0.9)\n",
    "\t\n",
    "\tengine.initializeProblem()\n",
    "\n",
    "\tflight_conditions = Atmosphere(12E3)\n",
    "\tflight_speed = 0.8 * flight_conditions.speed_of_sound\n",
    "\n",
    "\tengine.performAnalysis(flight_speed, flight_conditions)\n",
    "\n",
    "\n",
    "\tpass"
   ]
  },
  {
   "cell_type": "code",
   "execution_count": null,
   "metadata": {},
   "outputs": [],
   "source": []
  }
 ],
 "metadata": {
  "interpreter": {
   "hash": "7fc971179ebe20d9c4822d725e8918e729b8c35fccfc0bad9d0924110f07a302"
  },
  "kernelspec": {
   "display_name": "Python 3.9.9 64-bit",
   "language": "python",
   "name": "python3"
  },
  "language_info": {
   "codemirror_mode": {
    "name": "ipython",
    "version": 3
   },
   "file_extension": ".py",
   "mimetype": "text/x-python",
   "name": "python",
   "nbconvert_exporter": "python",
   "pygments_lexer": "ipython3",
   "version": "3.9.6"
  },
  "orig_nbformat": 4
 },
 "nbformat": 4,
 "nbformat_minor": 2
}
